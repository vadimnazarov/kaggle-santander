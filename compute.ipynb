{
 "cells": [
  {
   "cell_type": "code",
   "execution_count": 115,
   "metadata": {
    "collapsed": false
   },
   "outputs": [],
   "source": [
    "%matplotlib inline\n",
    "\n",
    "import pandas as pd\n",
    "from matplotlib import pyplot as plt\n",
    "import seaborn as sns\n",
    "import numpy as np\n",
    "from sklearn.cross_validation import StratifiedKFold, cross_val_score\n",
    "from sklearn.metrics import roc_auc_score\n",
    "from sklearn.ensemble import RandomForestClassifier, ExtraTreesClassifier\n",
    "from sklearn.linear_model import LogisticRegression\n",
    "from sklearn.grid_search import GridSearchCV\n",
    "from sklearn.utils import resample\n",
    "import xgboost as xgb\n",
    "from scipy.stats import pearsonr\n",
    "\n",
    "import imp\n",
    "import llama\n",
    "\n",
    "llama = imp.reload(llama)"
   ]
  },
  {
   "cell_type": "code",
   "execution_count": 63,
   "metadata": {
    "collapsed": false
   },
   "outputs": [
    {
     "name": "stdout",
     "output_type": "stream",
     "text": [
      "Train DataFrame:\n",
      "Index(['ID', 'var3', 'var15', 'imp_ent_var16_ult1', 'imp_op_var39_comer_ult1',\n",
      "       'imp_op_var39_comer_ult3', 'imp_op_var40_comer_ult1',\n",
      "       'imp_op_var40_comer_ult3', 'imp_op_var40_efect_ult1',\n",
      "       'imp_op_var40_efect_ult3',\n",
      "       ...\n",
      "       'saldo_medio_var33_hace2', 'saldo_medio_var33_hace3',\n",
      "       'saldo_medio_var33_ult1', 'saldo_medio_var33_ult3',\n",
      "       'saldo_medio_var44_hace2', 'saldo_medio_var44_hace3',\n",
      "       'saldo_medio_var44_ult1', 'saldo_medio_var44_ult3', 'var38', 'TARGET'],\n",
      "      dtype='object', length=371)\n",
      "(76020, 371)\n",
      "---\n",
      "Test DataFrame:\n",
      "Index(['ID', 'var3', 'var15', 'imp_ent_var16_ult1', 'imp_op_var39_comer_ult1',\n",
      "       'imp_op_var39_comer_ult3', 'imp_op_var40_comer_ult1',\n",
      "       'imp_op_var40_comer_ult3', 'imp_op_var40_efect_ult1',\n",
      "       'imp_op_var40_efect_ult3',\n",
      "       ...\n",
      "       'saldo_medio_var29_ult3', 'saldo_medio_var33_hace2',\n",
      "       'saldo_medio_var33_hace3', 'saldo_medio_var33_ult1',\n",
      "       'saldo_medio_var33_ult3', 'saldo_medio_var44_hace2',\n",
      "       'saldo_medio_var44_hace3', 'saldo_medio_var44_ult1',\n",
      "       'saldo_medio_var44_ult3', 'var38'],\n",
      "      dtype='object', length=370)\n",
      "(75818, 370)\n"
     ]
    }
   ],
   "source": [
    "train_df, test_X = llama.load_df(\"./data/train.csv\", \"./data/test.csv\")\n",
    "test_id = test_X.ID\n",
    "test_X = test_X.drop(\"ID\", 1)"
   ]
  },
  {
   "cell_type": "code",
   "execution_count": 64,
   "metadata": {
    "collapsed": false
   },
   "outputs": [
    {
     "data": {
      "text/html": [
       "<div>\n",
       "<table border=\"1\" class=\"dataframe\">\n",
       "  <thead>\n",
       "    <tr style=\"text-align: right;\">\n",
       "      <th></th>\n",
       "      <th>ID</th>\n",
       "      <th>var3</th>\n",
       "      <th>var15</th>\n",
       "      <th>imp_ent_var16_ult1</th>\n",
       "      <th>imp_op_var39_comer_ult1</th>\n",
       "      <th>imp_op_var39_comer_ult3</th>\n",
       "      <th>imp_op_var40_comer_ult1</th>\n",
       "      <th>imp_op_var40_comer_ult3</th>\n",
       "      <th>imp_op_var40_efect_ult1</th>\n",
       "      <th>imp_op_var40_efect_ult3</th>\n",
       "      <th>...</th>\n",
       "      <th>saldo_medio_var33_hace2</th>\n",
       "      <th>saldo_medio_var33_hace3</th>\n",
       "      <th>saldo_medio_var33_ult1</th>\n",
       "      <th>saldo_medio_var33_ult3</th>\n",
       "      <th>saldo_medio_var44_hace2</th>\n",
       "      <th>saldo_medio_var44_hace3</th>\n",
       "      <th>saldo_medio_var44_ult1</th>\n",
       "      <th>saldo_medio_var44_ult3</th>\n",
       "      <th>var38</th>\n",
       "      <th>TARGET</th>\n",
       "    </tr>\n",
       "  </thead>\n",
       "  <tbody>\n",
       "    <tr>\n",
       "      <th>count</th>\n",
       "      <td>76020.000000</td>\n",
       "      <td>76020.000000</td>\n",
       "      <td>76020.000000</td>\n",
       "      <td>76020.000000</td>\n",
       "      <td>76020.000000</td>\n",
       "      <td>76020.000000</td>\n",
       "      <td>76020.000000</td>\n",
       "      <td>76020.000000</td>\n",
       "      <td>76020.000000</td>\n",
       "      <td>76020.000000</td>\n",
       "      <td>...</td>\n",
       "      <td>76020.000000</td>\n",
       "      <td>76020.000000</td>\n",
       "      <td>76020.000000</td>\n",
       "      <td>76020.000000</td>\n",
       "      <td>76020.000000</td>\n",
       "      <td>76020.000000</td>\n",
       "      <td>76020.000000</td>\n",
       "      <td>76020.000000</td>\n",
       "      <td>76020.000000</td>\n",
       "      <td>76020.000000</td>\n",
       "    </tr>\n",
       "    <tr>\n",
       "      <th>mean</th>\n",
       "      <td>75964.050723</td>\n",
       "      <td>-1523.199277</td>\n",
       "      <td>33.212865</td>\n",
       "      <td>86.208265</td>\n",
       "      <td>72.363067</td>\n",
       "      <td>119.529632</td>\n",
       "      <td>3.559130</td>\n",
       "      <td>6.472698</td>\n",
       "      <td>0.412946</td>\n",
       "      <td>0.567352</td>\n",
       "      <td>...</td>\n",
       "      <td>7.935824</td>\n",
       "      <td>1.365146</td>\n",
       "      <td>12.215580</td>\n",
       "      <td>8.784074</td>\n",
       "      <td>31.505324</td>\n",
       "      <td>1.858575</td>\n",
       "      <td>76.026165</td>\n",
       "      <td>56.614351</td>\n",
       "      <td>117235.809430</td>\n",
       "      <td>0.039569</td>\n",
       "    </tr>\n",
       "    <tr>\n",
       "      <th>std</th>\n",
       "      <td>43781.947379</td>\n",
       "      <td>39033.462364</td>\n",
       "      <td>12.956486</td>\n",
       "      <td>1614.757313</td>\n",
       "      <td>339.315831</td>\n",
       "      <td>546.266294</td>\n",
       "      <td>93.155749</td>\n",
       "      <td>153.737066</td>\n",
       "      <td>30.604864</td>\n",
       "      <td>36.513513</td>\n",
       "      <td>...</td>\n",
       "      <td>455.887218</td>\n",
       "      <td>113.959637</td>\n",
       "      <td>783.207399</td>\n",
       "      <td>538.439211</td>\n",
       "      <td>2013.125393</td>\n",
       "      <td>147.786584</td>\n",
       "      <td>4040.337842</td>\n",
       "      <td>2852.579397</td>\n",
       "      <td>182664.598503</td>\n",
       "      <td>0.194945</td>\n",
       "    </tr>\n",
       "    <tr>\n",
       "      <th>min</th>\n",
       "      <td>1.000000</td>\n",
       "      <td>-999999.000000</td>\n",
       "      <td>5.000000</td>\n",
       "      <td>0.000000</td>\n",
       "      <td>0.000000</td>\n",
       "      <td>0.000000</td>\n",
       "      <td>0.000000</td>\n",
       "      <td>0.000000</td>\n",
       "      <td>0.000000</td>\n",
       "      <td>0.000000</td>\n",
       "      <td>...</td>\n",
       "      <td>0.000000</td>\n",
       "      <td>0.000000</td>\n",
       "      <td>0.000000</td>\n",
       "      <td>0.000000</td>\n",
       "      <td>0.000000</td>\n",
       "      <td>0.000000</td>\n",
       "      <td>0.000000</td>\n",
       "      <td>0.000000</td>\n",
       "      <td>5163.750000</td>\n",
       "      <td>0.000000</td>\n",
       "    </tr>\n",
       "    <tr>\n",
       "      <th>25%</th>\n",
       "      <td>38104.750000</td>\n",
       "      <td>2.000000</td>\n",
       "      <td>23.000000</td>\n",
       "      <td>0.000000</td>\n",
       "      <td>0.000000</td>\n",
       "      <td>0.000000</td>\n",
       "      <td>0.000000</td>\n",
       "      <td>0.000000</td>\n",
       "      <td>0.000000</td>\n",
       "      <td>0.000000</td>\n",
       "      <td>...</td>\n",
       "      <td>0.000000</td>\n",
       "      <td>0.000000</td>\n",
       "      <td>0.000000</td>\n",
       "      <td>0.000000</td>\n",
       "      <td>0.000000</td>\n",
       "      <td>0.000000</td>\n",
       "      <td>0.000000</td>\n",
       "      <td>0.000000</td>\n",
       "      <td>67870.612500</td>\n",
       "      <td>0.000000</td>\n",
       "    </tr>\n",
       "    <tr>\n",
       "      <th>50%</th>\n",
       "      <td>76043.000000</td>\n",
       "      <td>2.000000</td>\n",
       "      <td>28.000000</td>\n",
       "      <td>0.000000</td>\n",
       "      <td>0.000000</td>\n",
       "      <td>0.000000</td>\n",
       "      <td>0.000000</td>\n",
       "      <td>0.000000</td>\n",
       "      <td>0.000000</td>\n",
       "      <td>0.000000</td>\n",
       "      <td>...</td>\n",
       "      <td>0.000000</td>\n",
       "      <td>0.000000</td>\n",
       "      <td>0.000000</td>\n",
       "      <td>0.000000</td>\n",
       "      <td>0.000000</td>\n",
       "      <td>0.000000</td>\n",
       "      <td>0.000000</td>\n",
       "      <td>0.000000</td>\n",
       "      <td>106409.160000</td>\n",
       "      <td>0.000000</td>\n",
       "    </tr>\n",
       "    <tr>\n",
       "      <th>75%</th>\n",
       "      <td>113748.750000</td>\n",
       "      <td>2.000000</td>\n",
       "      <td>40.000000</td>\n",
       "      <td>0.000000</td>\n",
       "      <td>0.000000</td>\n",
       "      <td>0.000000</td>\n",
       "      <td>0.000000</td>\n",
       "      <td>0.000000</td>\n",
       "      <td>0.000000</td>\n",
       "      <td>0.000000</td>\n",
       "      <td>...</td>\n",
       "      <td>0.000000</td>\n",
       "      <td>0.000000</td>\n",
       "      <td>0.000000</td>\n",
       "      <td>0.000000</td>\n",
       "      <td>0.000000</td>\n",
       "      <td>0.000000</td>\n",
       "      <td>0.000000</td>\n",
       "      <td>0.000000</td>\n",
       "      <td>118756.252500</td>\n",
       "      <td>0.000000</td>\n",
       "    </tr>\n",
       "    <tr>\n",
       "      <th>max</th>\n",
       "      <td>151838.000000</td>\n",
       "      <td>238.000000</td>\n",
       "      <td>105.000000</td>\n",
       "      <td>210000.000000</td>\n",
       "      <td>12888.030000</td>\n",
       "      <td>21024.810000</td>\n",
       "      <td>8237.820000</td>\n",
       "      <td>11073.570000</td>\n",
       "      <td>6600.000000</td>\n",
       "      <td>6600.000000</td>\n",
       "      <td>...</td>\n",
       "      <td>50003.880000</td>\n",
       "      <td>20385.720000</td>\n",
       "      <td>138831.630000</td>\n",
       "      <td>91778.730000</td>\n",
       "      <td>438329.220000</td>\n",
       "      <td>24650.010000</td>\n",
       "      <td>681462.900000</td>\n",
       "      <td>397884.300000</td>\n",
       "      <td>22034738.760000</td>\n",
       "      <td>1.000000</td>\n",
       "    </tr>\n",
       "  </tbody>\n",
       "</table>\n",
       "<p>8 rows × 371 columns</p>\n",
       "</div>"
      ],
      "text/plain": [
       "                  ID           var3         var15  imp_ent_var16_ult1  \\\n",
       "count   76020.000000   76020.000000  76020.000000        76020.000000   \n",
       "mean    75964.050723   -1523.199277     33.212865           86.208265   \n",
       "std     43781.947379   39033.462364     12.956486         1614.757313   \n",
       "min         1.000000 -999999.000000      5.000000            0.000000   \n",
       "25%     38104.750000       2.000000     23.000000            0.000000   \n",
       "50%     76043.000000       2.000000     28.000000            0.000000   \n",
       "75%    113748.750000       2.000000     40.000000            0.000000   \n",
       "max    151838.000000     238.000000    105.000000       210000.000000   \n",
       "\n",
       "       imp_op_var39_comer_ult1  imp_op_var39_comer_ult3  \\\n",
       "count             76020.000000             76020.000000   \n",
       "mean                 72.363067               119.529632   \n",
       "std                 339.315831               546.266294   \n",
       "min                   0.000000                 0.000000   \n",
       "25%                   0.000000                 0.000000   \n",
       "50%                   0.000000                 0.000000   \n",
       "75%                   0.000000                 0.000000   \n",
       "max               12888.030000             21024.810000   \n",
       "\n",
       "       imp_op_var40_comer_ult1  imp_op_var40_comer_ult3  \\\n",
       "count             76020.000000             76020.000000   \n",
       "mean                  3.559130                 6.472698   \n",
       "std                  93.155749               153.737066   \n",
       "min                   0.000000                 0.000000   \n",
       "25%                   0.000000                 0.000000   \n",
       "50%                   0.000000                 0.000000   \n",
       "75%                   0.000000                 0.000000   \n",
       "max                8237.820000             11073.570000   \n",
       "\n",
       "       imp_op_var40_efect_ult1  imp_op_var40_efect_ult3      ...       \\\n",
       "count             76020.000000             76020.000000      ...        \n",
       "mean                  0.412946                 0.567352      ...        \n",
       "std                  30.604864                36.513513      ...        \n",
       "min                   0.000000                 0.000000      ...        \n",
       "25%                   0.000000                 0.000000      ...        \n",
       "50%                   0.000000                 0.000000      ...        \n",
       "75%                   0.000000                 0.000000      ...        \n",
       "max                6600.000000              6600.000000      ...        \n",
       "\n",
       "       saldo_medio_var33_hace2  saldo_medio_var33_hace3  \\\n",
       "count             76020.000000             76020.000000   \n",
       "mean                  7.935824                 1.365146   \n",
       "std                 455.887218               113.959637   \n",
       "min                   0.000000                 0.000000   \n",
       "25%                   0.000000                 0.000000   \n",
       "50%                   0.000000                 0.000000   \n",
       "75%                   0.000000                 0.000000   \n",
       "max               50003.880000             20385.720000   \n",
       "\n",
       "       saldo_medio_var33_ult1  saldo_medio_var33_ult3  \\\n",
       "count            76020.000000            76020.000000   \n",
       "mean                12.215580                8.784074   \n",
       "std                783.207399              538.439211   \n",
       "min                  0.000000                0.000000   \n",
       "25%                  0.000000                0.000000   \n",
       "50%                  0.000000                0.000000   \n",
       "75%                  0.000000                0.000000   \n",
       "max             138831.630000            91778.730000   \n",
       "\n",
       "       saldo_medio_var44_hace2  saldo_medio_var44_hace3  \\\n",
       "count             76020.000000             76020.000000   \n",
       "mean                 31.505324                 1.858575   \n",
       "std                2013.125393               147.786584   \n",
       "min                   0.000000                 0.000000   \n",
       "25%                   0.000000                 0.000000   \n",
       "50%                   0.000000                 0.000000   \n",
       "75%                   0.000000                 0.000000   \n",
       "max              438329.220000             24650.010000   \n",
       "\n",
       "       saldo_medio_var44_ult1  saldo_medio_var44_ult3            var38  \\\n",
       "count            76020.000000            76020.000000     76020.000000   \n",
       "mean                76.026165               56.614351    117235.809430   \n",
       "std               4040.337842             2852.579397    182664.598503   \n",
       "min                  0.000000                0.000000      5163.750000   \n",
       "25%                  0.000000                0.000000     67870.612500   \n",
       "50%                  0.000000                0.000000    106409.160000   \n",
       "75%                  0.000000                0.000000    118756.252500   \n",
       "max             681462.900000           397884.300000  22034738.760000   \n",
       "\n",
       "             TARGET  \n",
       "count  76020.000000  \n",
       "mean       0.039569  \n",
       "std        0.194945  \n",
       "min        0.000000  \n",
       "25%        0.000000  \n",
       "50%        0.000000  \n",
       "75%        0.000000  \n",
       "max        1.000000  \n",
       "\n",
       "[8 rows x 371 columns]"
      ]
     },
     "execution_count": 64,
     "metadata": {},
     "output_type": "execute_result"
    }
   ],
   "source": [
    "train_df.describe()"
   ]
  },
  {
   "cell_type": "code",
   "execution_count": 65,
   "metadata": {
    "collapsed": false
   },
   "outputs": [
    {
     "data": {
      "text/plain": [
       "({-1.0, -0.5, -0.33333333300000001, 0.0, 1.0, 9999999999.0},\n",
       " {-1.0, -0.5, 0.0, 1.0, 2.0, 3.0, 9999999999.0})"
      ]
     },
     "execution_count": 65,
     "metadata": {},
     "output_type": "execute_result"
    }
   ],
   "source": [
    "def replace_very_low_var3(df):\n",
    "    pass\n",
    "\n",
    "train_df.loc[train_df[\"delta_imp_aport_var17_1y3\"] == 9999999999, :].head()\n",
    "\n",
    "col_sizes = {}\n",
    "for col in train_df.columns:\n",
    "    if col != \"TARGET\" and col != \"ID\":\n",
    "        col_sizes[col] = len(set(train_df[col])), len(set(test_X[col]))\n",
    "\n",
    "from collections import Counter\n",
    "Counter(dict(sorted(col_sizes.items(), key = lambda x: x[1], reverse = False)).values())\n",
    "set(train_df[\"delta_num_aport_var13_1y3\"]), set(test_X[\"delta_num_aport_var13_1y3\"])"
   ]
  },
  {
   "cell_type": "code",
   "execution_count": 66,
   "metadata": {
    "collapsed": false
   },
   "outputs": [
    {
     "name": "stdout",
     "output_type": "stream",
     "text": [
      "(76020, 371)\n",
      "(75818, 369)\n",
      "num_var2_ult1\n",
      "imp_reemb_var33_hace3\n",
      "saldo_var2_ult1\n",
      "saldo_var46\n",
      "ind_var2_0\n",
      "num_var28_0\n",
      "ind_var2\n",
      "ind_var27_0\n",
      "num_var2_0_ult1\n",
      "imp_reemb_var13_hace3\n",
      "ind_var27\n",
      "num_var27\n",
      "ind_var28\n",
      "imp_trasp_var33_out_hace3\n",
      "num_reemb_var13_hace3\n",
      "ind_var41\n",
      "num_trasp_var33_out_hace3\n",
      "ind_var46_0\n",
      "num_trasp_var17_out_hace3\n",
      "ind_var28_0\n",
      "num_var28\n",
      "imp_amort_var18_hace3\n",
      "imp_amort_var34_hace3\n",
      "num_var46_0\n",
      "num_var41\n",
      "saldo_var41\n",
      "num_var46\n",
      "saldo_medio_var13_medio_hace3\n",
      "num_reemb_var33_hace3\n",
      "saldo_var27\n",
      "num_var27_0\n",
      "ind_var46\n",
      "imp_trasp_var17_out_hace3\n",
      "saldo_var28\n",
      "(76020, 337)\n",
      "(75818, 335)\n"
     ]
    }
   ],
   "source": [
    "print(train_df.shape)\n",
    "print(test_X.shape)\n",
    "\n",
    "for key, val in col_sizes.items():\n",
    "    if val == (1, 1):\n",
    "        print(key)\n",
    "        train_df.drop(key, 1, inplace=True)\n",
    "        test_X.drop(key, 1, inplace=True)\n",
    "        \n",
    "print(train_df.shape)\n",
    "print(test_X.shape)"
   ]
  },
  {
   "cell_type": "code",
   "execution_count": 67,
   "metadata": {
    "collapsed": false
   },
   "outputs": [
    {
     "name": "stdout",
     "output_type": "stream",
     "text": [
      "(76020, 337)\n",
      "(75818, 335)\n",
      "ind_var1_0\n",
      "ind_var12\n",
      "ind_var26\n",
      "delta_imp_reemb_var33_1y3\n",
      "ind_var1\n",
      "ind_var13_medio_0\n",
      "ind_var13_largo_0\n",
      "num_reemb_var17_hace3\n",
      "num_var39\n",
      "delta_imp_amort_var34_1y3\n",
      "ind_var41_0\n",
      "ind_var6\n",
      "num_reemb_var13_ult1\n",
      "ind_var34_0\n",
      "ind_var9_ult1\n",
      "ind_var17_0\n",
      "imp_reemb_var17_hace3\n",
      "delta_imp_amort_var18_1y3\n",
      "delta_imp_trasp_var33_out_1y3\n",
      "ind_var6_0\n",
      "ind_var37_cte\n",
      "ind_var39_0\n",
      "num_reemb_var33_ult1\n",
      "ind_var5_0\n",
      "ind_var29_0\n",
      "ind_var32_0\n",
      "ind_var12_0\n",
      "num_var8\n",
      "ind_var5\n",
      "num_var20_0\n",
      "ind_var33_0\n",
      "ind_var10_ult1\n",
      "num_var13_medio\n",
      "ind_var43_recib_ult1\n",
      "ind_var37_0\n",
      "num_trasp_var33_in_hace3\n",
      "ind_var13_medio\n",
      "ind_var32_cte\n",
      "ind_var34\n",
      "ind_var13\n",
      "ind_var10cte_ult1\n",
      "ind_var25_cte\n",
      "ind_var13_largo\n",
      "ind_var17\n",
      "ind_var30\n",
      "delta_num_reemb_var13_1y3\n",
      "num_trasp_var17_out_ult1\n",
      "ind_var25_0\n",
      "num_trasp_var33_out_ult1\n",
      "delta_num_reemb_var33_1y3\n",
      "num_var34\n",
      "saldo_medio_var29_hace3\n",
      "num_var6\n",
      "ind_var44\n",
      "ind_var7_recib_ult1\n",
      "ind_var7_emit_ult1\n",
      "num_var20\n",
      "ind_var24_0\n",
      "ind_var31_0\n",
      "delta_imp_reemb_var13_1y3\n",
      "num_var34_0\n",
      "ind_var14_0\n",
      "ind_var13_0\n",
      "num_var18_0\n",
      "ind_var40\n",
      "ind_var40_0\n",
      "delta_num_trasp_var33_out_1y3\n",
      "ind_var24\n",
      "imp_reemb_var33_ult1\n",
      "ind_var8\n",
      "delta_num_trasp_var17_out_1y3\n",
      "ind_var30_0\n",
      "ind_var26_cte\n",
      "ind_var31\n",
      "ind_var8_0\n",
      "ind_var37\n",
      "ind_var44_0\n",
      "ind_var14\n",
      "num_var29\n",
      "ind_var25\n",
      "ind_var13_corto\n",
      "delta_imp_trasp_var17_out_1y3\n",
      "num_var6_0\n",
      "ind_var33\n",
      "ind_var19\n",
      "ind_var18_0\n",
      "imp_trasp_var33_out_ult1\n",
      "ind_var20_0\n",
      "ind_var29\n",
      "num_var40\n",
      "ind_var20\n",
      "num_var18\n",
      "ind_var26_0\n",
      "ind_var18\n",
      "ind_var9_cte_ult1\n",
      "ind_var39\n",
      "ind_var43_emit_ult1\n",
      "ind_var32\n",
      "num_var29_0\n",
      "ind_var13_corto_0\n",
      "num_meses_var13_medio_ult3\n",
      "(76020, 337)\n",
      "(75818, 335)\n"
     ]
    }
   ],
   "source": [
    "print(train_df.shape)\n",
    "print(test_X.shape)\n",
    "\n",
    "for key, val in col_sizes.items():\n",
    "    if val == (2, 1) or val == (2, 2):\n",
    "        print(key)\n",
    "        train_df.loc[train_df[key] > 0, key] = 1\n",
    "        test_X.loc[test_X[key] > 0, key] = 1\n",
    "        \n",
    "print(train_df.shape)\n",
    "print(test_X.shape)"
   ]
  },
  {
   "cell_type": "code",
   "execution_count": 68,
   "metadata": {
    "collapsed": false
   },
   "outputs": [],
   "source": [
    "# New dummy features:\n",
    "# var3 >= 16\n",
    "# var3 == -999999, replace such var3 values with mean values\n",
    "# var15 <= 22\n",
    "# var38 <= 25\n",
    "#\n",
    "# Replace max with mean and add dummy variables:\n",
    "# delta_imp_compra_var44_1y3\n",
    "# delta_num_venta_var44_1y3\n",
    "# delta_num_trasp_var33_in_1y3\n",
    "# delta_num_trasp_var17_in_1y3\n",
    "# delta_num_reemb_var17_1y3\n",
    "# delta_num_compra_var44_1y3\n",
    "# delta_num_aport_var33_1y3\n",
    "# delta_num_aport_var17_1y3\n",
    "# delta_imp_venta_var44_1y3\n",
    "# delta_imp_trasp_var33_in_1y3\n",
    "# delta_imp_aport_var13_1y3\n",
    "# delta_imp_aport_var17_1y3\n",
    "# delta_imp_aport_var33_1y3\n",
    "# delta_imp_reemb_var17_1y3\n",
    "# delta_num_aport_var13_1y3\n",
    "# delta_imp_trasp_var17_in_1y3\n",
    "\n",
    "feature = \"var3\"\n",
    "train_df[\"dummy_\" + feature] = 0\n",
    "train_df.loc[train_df[feature] >= 16, \"dummy_\"+feature] = 1\n",
    "test_X[\"dummy_\" + feature] = 0\n",
    "test_X.loc[test_X[feature] >= 16, \"dummy_\"+feature] = 1\n",
    "\n",
    "mean_val = train_df.loc[train_df[\"var3\"] != -999999, \"var3\"].mean()\n",
    "train_df.loc[train_df[\"var3\"] == -999999, \"var3\"] = mean_val\n",
    "test_X.loc[test_X[\"var3\"] == -999999, \"var3\"] = mean_val\n",
    "\n",
    "feature = \"var15\"\n",
    "train_df[\"dummy_\" + feature] = 0\n",
    "train_df.loc[train_df[feature] <= 22, \"dummy_\"+feature] = 1\n",
    "test_X[\"dummy_\" + feature] = 0\n",
    "test_X.loc[test_X[feature] <= 22, \"dummy_\"+feature] = 1\n",
    "\n",
    "feature = \"var38\"\n",
    "train_df[\"dummy_\" + feature] = 0\n",
    "train_df.loc[train_df[feature] <= 25, \"dummy_\"+feature] = 1\n",
    "test_X[\"dummy_\" + feature] = 0\n",
    "test_X.loc[test_X[feature] <= 25, \"dummy_\"+feature] = 1\n",
    "\n",
    "delta_features = ['delta_imp_compra_var44_1y3', 'delta_num_venta_var44_1y3', 'delta_num_trasp_var33_in_1y3', \n",
    "                  'delta_num_trasp_var17_in_1y3', 'delta_num_reemb_var17_1y3', 'delta_num_compra_var44_1y3', \n",
    "                  'delta_num_aport_var33_1y3', 'delta_num_aport_var17_1y3', 'delta_imp_venta_var44_1y3', \n",
    "                  'delta_imp_trasp_var33_in_1y3', 'delta_imp_aport_var13_1y3', 'delta_imp_aport_var17_1y3', \n",
    "                  'delta_imp_aport_var33_1y3', 'delta_imp_reemb_var17_1y3', 'delta_num_aport_var13_1y3', \n",
    "                  'delta_imp_trasp_var17_in_1y3']\n",
    "for de_fe in delta_features:\n",
    "    max_val = train_df[de_fe].max()\n",
    "    mean_val = train_df.loc[train_df[de_fe] != max_val, de_fe].mean()\n",
    "    train_df.loc[train_df[de_fe] == max_val, de_fe] = mean_val\n",
    "    test_X.loc[test_X[de_fe] == max_val, de_fe] = mean_val"
   ]
  },
  {
   "cell_type": "code",
   "execution_count": 69,
   "metadata": {
    "collapsed": false
   },
   "outputs": [
    {
     "name": "stderr",
     "output_type": "stream",
     "text": [
      "/home/vadim/anaconda3/lib/python3.5/site-packages/sklearn/feature_selection/univariate_selection.py:113: UserWarning: Features [337] are constant.\n",
      "  UserWarning)\n"
     ]
    },
    {
     "data": {
      "image/png": "[encoded data removed]",
      "text/plain": [
       "<matplotlib.figure.Figure at 0x7f1df04fe9e8>"
      ]
     },
     "metadata": {},
     "output_type": "display_data"
    }
   ],
   "source": [
    "#\n",
    "# Feature Selection\n",
    "#\n",
    "llama = imp.reload(llama)\n",
    "\n",
    "train_X, train_y = llama.split_train_set(train_df.drop(\"ID\", 1), \"TARGET\")\n",
    "top_features = 30\n",
    "\n",
    "# SelectKBest with ANOVA\n",
    "feat_imp_anova = llama.anova_best_features(train_X, train_y, top_features)"
   ]
  },
  {
   "cell_type": "code",
   "execution_count": 70,
   "metadata": {
    "collapsed": false
   },
   "outputs": [],
   "source": [
    "# # RFECV\n",
    "# llama = imp.reload(llama)\n",
    "\n",
    "# train_X, train_y = llama.split_train_set(train_df.drop(\"ID\", 1), \"TARGET\")\n",
    "# indices = llama.downsample(train_y, [20000, 3000])\n",
    "# train_X = train_X.loc[indices, :]\n",
    "# train_y = train_y[indices]\n",
    "\n",
    "# feat_imp_rfe_lin, feat_imp_rfe_log = llama.rfe_best_features(train_X, train_y)"
   ]
  },
  {
   "cell_type": "code",
   "execution_count": 71,
   "metadata": {
    "collapsed": false
   },
   "outputs": [],
   "source": [
    "# L1-based\n",
    "# Randomized lasso\n",
    "# feat_imp"
   ]
  },
  {
   "cell_type": "code",
   "execution_count": 72,
   "metadata": {
    "collapsed": false
   },
   "outputs": [],
   "source": [
    "# # # feat_imp.hist(by=1, sharex=True, sharey=True)\n",
    "# feat_imp_na = feat_imp_rfe\n",
    "# feat_imp_rfe = feat_imp_rfe.dropna()\n",
    "# plt.figure(figsize=(14, 7))\n",
    "# plt.hist(feat_imp_rfe.loc[feat_imp[1] == \"Linear\", 0], bins = 50, alpha=0.5, label='linear')\n",
    "# plt.hist(feat_imp_rfe.loc[feat_imp[1] == \"Logistic\", 0], bins = 50, alpha=0.5, label='logistic')\n",
    "# plt.legend(loc='upper right')\n",
    "# plt.show()"
   ]
  },
  {
   "cell_type": "code",
   "execution_count": 73,
   "metadata": {
    "collapsed": false
   },
   "outputs": [
    {
     "data": {
      "image/png": "[encoded data removed]",
      "text/plain": [
       "<matplotlib.figure.Figure at 0x7f1dded67a58>"
      ]
     },
     "metadata": {},
     "output_type": "display_data"
    }
   ],
   "source": [
    "# Trees\n",
    "llama = imp.reload(llama)\n",
    "feat_imp_tree = llama.tree_best_features(train_X, train_y, top_features)"
   ]
  },
  {
   "cell_type": "code",
   "execution_count": 74,
   "metadata": {
    "collapsed": false
   },
   "outputs": [
    {
     "name": "stdout",
     "output_type": "stream",
     "text": [
      "3008\n",
      "3008\n",
      "76020\n",
      "0\n"
     ]
    }
   ],
   "source": [
    "llama = imp.reload(llama)\n",
    "\n",
    "train_X, train_y = llama.split_train_set(train_df.drop(\"ID\", 1), \"TARGET\")\n",
    "# train_X = resample(train_X, n_samples = 30000)\n",
    "\n",
    "cv_fold = StratifiedKFold(train_y, n_folds = 5, shuffle = True)\n",
    "cv_col = [cv for cv in cv_fold][0]\n",
    "val_col = np.ndarray(shape = 1 + (max(cv_col[0].max(), cv_col[1].max())))\n",
    "val_col[cv_col[0]] = 0\n",
    "val_col[cv_col[1]] = 1\n",
    "print(sum(train_y))\n",
    "print(sum(train_df[\"TARGET\"]))\n",
    "print(sum(train_y[val_col] == 0))\n",
    "print(sum(train_y[val_col] == 1))"
   ]
  },
  {
   "cell_type": "code",
   "execution_count": 75,
   "metadata": {
    "collapsed": false
   },
   "outputs": [],
   "source": [
    "# feat_imp_anova.tail(70).plot(kind = \"bar\")"
   ]
  },
  {
   "cell_type": "code",
   "execution_count": 76,
   "metadata": {
    "collapsed": false
   },
   "outputs": [],
   "source": [
    "# feat_imp_rfe_log.sort_values().tail(100).plot(kind = \"bar\")"
   ]
  },
  {
   "cell_type": "code",
   "execution_count": 77,
   "metadata": {
    "collapsed": false
   },
   "outputs": [],
   "source": [
    "# feat_imp_rfe_lin.sort_values().tail(150).plot(kind = \"bar\")"
   ]
  },
  {
   "cell_type": "code",
   "execution_count": 78,
   "metadata": {
    "collapsed": false
   },
   "outputs": [],
   "source": [
    "# feat_imp_tree.tail(25).plot(kind = \"bar\")"
   ]
  },
  {
   "cell_type": "code",
   "execution_count": null,
   "metadata": {
    "collapsed": false
   },
   "outputs": [
    {
     "name": "stderr",
     "output_type": "stream",
     "text": [
      "/home/vadim/anaconda3/lib/python3.5/site-packages/sklearn/metrics/classification.py:1074: UndefinedMetricWarning: F-score is ill-defined and being set to 0.0 due to no predicted samples.\n",
      "  'precision', 'predicted', average, warn_for)\n",
      "/home/vadim/anaconda3/lib/python3.5/site-packages/sklearn/metrics/classification.py:1074: UndefinedMetricWarning: F-score is ill-defined and being set to 0.0 due to no predicted samples.\n",
      "  'precision', 'predicted', average, warn_for)\n",
      "/home/vadim/anaconda3/lib/python3.5/site-packages/sklearn/metrics/classification.py:1074: UndefinedMetricWarning: F-score is ill-defined and being set to 0.0 due to no predicted samples.\n",
      "  'precision', 'predicted', average, warn_for)\n",
      "/home/vadim/anaconda3/lib/python3.5/site-packages/sklearn/metrics/classification.py:1074: UndefinedMetricWarning: F-score is ill-defined and being set to 0.0 due to no predicted samples.\n",
      "  'precision', 'predicted', average, warn_for)\n"
     ]
    },
    {
     "name": "stdout",
     "output_type": "stream",
     "text": [
      "1. Number of estimators... Done.\n",
      "2. Weight scaling... Done.\n",
      "3. Depth and child weights... Done.\n",
      "4. Number of estimators... Done.\n",
      "5. Gamma... Done.\n",
      "6. Sample and colsample... Done.\n",
      "7. Regularization... Done.\n",
      "8. Number of estimators and the learning rate... Done."
     ]
    },
    {
     "name": "stderr",
     "output_type": "stream",
     "text": [
      "/home/vadim/anaconda3/lib/python3.5/site-packages/sklearn/metrics/classification.py:1074: UndefinedMetricWarning: F-score is ill-defined and being set to 0.0 due to no predicted samples.\n",
      "  'precision', 'predicted', average, warn_for)\n",
      "/home/vadim/anaconda3/lib/python3.5/site-packages/sklearn/metrics/classification.py:1074: UndefinedMetricWarning: F-score is ill-defined and being set to 0.0 due to no predicted samples.\n",
      "  'precision', 'predicted', average, warn_for)\n",
      "/home/vadim/anaconda3/lib/python3.5/site-packages/sklearn/metrics/classification.py:1074: UndefinedMetricWarning: F-score is ill-defined and being set to 0.0 due to no predicted samples.\n",
      "  'precision', 'predicted', average, warn_for)\n",
      "/home/vadim/anaconda3/lib/python3.5/site-packages/sklearn/metrics/classification.py:1074: UndefinedMetricWarning: F-score is ill-defined and being set to 0.0 due to no predicted samples.\n",
      "  'precision', 'predicted', average, warn_for)\n",
      "/home/vadim/anaconda3/lib/python3.5/site-packages/sklearn/metrics/classification.py:1074: UndefinedMetricWarning: F-score is ill-defined and being set to 0.0 due to no predicted samples.\n",
      "  'precision', 'predicted', average, warn_for)\n",
      "/home/vadim/anaconda3/lib/python3.5/site-packages/sklearn/metrics/classification.py:1074: UndefinedMetricWarning: F-score is ill-defined and being set to 0.0 due to no predicted samples.\n",
      "  'precision', 'predicted', average, warn_for)\n"
     ]
    },
    {
     "name": "stdout",
     "output_type": "stream",
     "text": [
      "\n",
      "9. Weight scaling... Done.\n",
      "XGBClassifier(base_score=0.5, colsample_bylevel=1, colsample_bytree=1,\n",
      "       gamma=0.5, learning_rate=0.05, max_delta_step=0, max_depth=3,\n",
      "       min_child_weight=3, missing=None, n_estimators=600, nthread=7,\n",
      "       objective='binary:logistic', reg_alpha=10, reg_lambda=10,\n",
      "       scale_pos_weight=7, seed=0, silent=True, subsample=1.0)\n",
      "CV scores: [ 0.84337777  0.84053685  0.83724025  0.83161778  0.83528491]\n",
      "=>\t0.837611511292 (+-0.00408124958341)\n"
     ]
    },
    {
     "name": "stderr",
     "output_type": "stream",
     "text": [
      "/home/vadim/anaconda3/lib/python3.5/site-packages/sklearn/metrics/classification.py:1074: UndefinedMetricWarning: F-score is ill-defined and being set to 0.0 due to no predicted samples.\n",
      "  'precision', 'predicted', average, warn_for)\n"
     ]
    }
   ],
   "source": [
    "llama = imp.reload(llama)\n",
    "train_X2 = llama.take_features(feat_imp_tree.tail(25), train_X)[0]\n",
    "tree25 = llama.train_xgb(train_X2, train_y, cv_fold)\n",
    "print(tree25, file = \"tree.model.txt\")"
   ]
  },
  {
   "cell_type": "code",
   "execution_count": null,
   "metadata": {
    "collapsed": false
   },
   "outputs": [
    {
     "name": "stderr",
     "output_type": "stream",
     "text": [
      "/home/vadim/anaconda3/lib/python3.5/site-packages/sklearn/metrics/classification.py:1074: UndefinedMetricWarning: F-score is ill-defined and being set to 0.0 due to no predicted samples.\n",
      "  'precision', 'predicted', average, warn_for)\n",
      "/home/vadim/anaconda3/lib/python3.5/site-packages/sklearn/metrics/classification.py:1074: UndefinedMetricWarning: F-score is ill-defined and being set to 0.0 due to no predicted samples.\n",
      "  'precision', 'predicted', average, warn_for)\n",
      "/home/vadim/anaconda3/lib/python3.5/site-packages/sklearn/metrics/classification.py:1074: UndefinedMetricWarning: F-score is ill-defined and being set to 0.0 due to no predicted samples.\n",
      "  'precision', 'predicted', average, warn_for)\n",
      "/home/vadim/anaconda3/lib/python3.5/site-packages/sklearn/metrics/classification.py:1074: UndefinedMetricWarning: F-score is ill-defined and being set to 0.0 due to no predicted samples.\n",
      "  'precision', 'predicted', average, warn_for)\n"
     ]
    },
    {
     "name": "stdout",
     "output_type": "stream",
     "text": [
      "1. Number of estimators... Done."
     ]
    },
    {
     "name": "stderr",
     "output_type": "stream",
     "text": [
      "/home/vadim/anaconda3/lib/python3.5/site-packages/sklearn/metrics/classification.py:1074: UndefinedMetricWarning: F-score is ill-defined and being set to 0.0 due to no predicted samples.\n",
      "  'precision', 'predicted', average, warn_for)\n",
      "/home/vadim/anaconda3/lib/python3.5/site-packages/sklearn/metrics/classification.py:1074: UndefinedMetricWarning: F-score is ill-defined and being set to 0.0 due to no predicted samples.\n",
      "  'precision', 'predicted', average, warn_for)\n"
     ]
    },
    {
     "name": "stdout",
     "output_type": "stream",
     "text": [
      "\n",
      "2. Weight scaling... Done.\n",
      "3. Depth and child weights... Done.\n",
      "4. Number of estimators... Done.\n",
      "5. Gamma... Done.\n",
      "6. Sample and colsample... Done.\n",
      "7. Regularization... Done.\n",
      "8. Number of estimators and the learning rate... Done."
     ]
    },
    {
     "name": "stderr",
     "output_type": "stream",
     "text": [
      "/home/vadim/anaconda3/lib/python3.5/site-packages/sklearn/metrics/classification.py:1074: UndefinedMetricWarning: F-score is ill-defined and being set to 0.0 due to no predicted samples.\n",
      "  'precision', 'predicted', average, warn_for)\n",
      "/home/vadim/anaconda3/lib/python3.5/site-packages/sklearn/metrics/classification.py:1074: UndefinedMetricWarning: F-score is ill-defined and being set to 0.0 due to no predicted samples.\n",
      "  'precision', 'predicted', average, warn_for)\n",
      "/home/vadim/anaconda3/lib/python3.5/site-packages/sklearn/metrics/classification.py:1074: UndefinedMetricWarning: F-score is ill-defined and being set to 0.0 due to no predicted samples.\n",
      "  'precision', 'predicted', average, warn_for)\n",
      "/home/vadim/anaconda3/lib/python3.5/site-packages/sklearn/metrics/classification.py:1074: UndefinedMetricWarning: F-score is ill-defined and being set to 0.0 due to no predicted samples.\n",
      "  'precision', 'predicted', average, warn_for)\n",
      "/home/vadim/anaconda3/lib/python3.5/site-packages/sklearn/metrics/classification.py:1074: UndefinedMetricWarning: F-score is ill-defined and being set to 0.0 due to no predicted samples.\n",
      "  'precision', 'predicted', average, warn_for)\n",
      "/home/vadim/anaconda3/lib/python3.5/site-packages/sklearn/metrics/classification.py:1074: UndefinedMetricWarning: F-score is ill-defined and being set to 0.0 due to no predicted samples.\n",
      "  'precision', 'predicted', average, warn_for)\n"
     ]
    }
   ],
   "source": [
    "llama = imp.reload(llama)\n",
    "train_X2 = llama.take_features(feat_imp_anova.tail(70), train_X)[0]\n",
    "xanova70 = llama.train_xgb(train_X2, train_y, cv_fold)\n",
    "print(xanova70, file = \"anova.model.txt\")"
   ]
  },
  {
   "cell_type": "code",
   "execution_count": 85,
   "metadata": {
    "collapsed": false
   },
   "outputs": [
    {
     "data": {
      "text/plain": [
       "XGBClassifier(base_score=0.5, colsample_bylevel=1, colsample_bytree=1,\n",
       "       gamma=1.0, learning_rate=0.01, max_delta_step=0, max_depth=3,\n",
       "       min_child_weight=5, missing=None, n_estimators=1300, nthread=7,\n",
       "       objective='binary:logistic', reg_alpha=1e-05, reg_lambda=100,\n",
       "       scale_pos_weight=7, seed=0, silent=True, subsample=0.9)"
      ]
     },
     "execution_count": 85,
     "metadata": {},
     "output_type": "execute_result"
    }
   ],
   "source": [
    "xanova70\n",
    "# llama = imp.reload(llama)\n",
    "# train_X2 = llama.take_features(feat_imp_rfe_lin.sort_values().tail(110), train_X)[0]\n",
    "# xlin110 = llama.train_xgb(train_X2, train_y, cv_fold)"
   ]
  },
  {
   "cell_type": "code",
   "execution_count": null,
   "metadata": {
    "collapsed": true
   },
   "outputs": [],
   "source": [
    "# llama = imp.reload(llama)\n",
    "# train_X2 = llama.take_features(feat_imp_rfe_log.sort_values().tail(45), train_X)[0]\n",
    "# xlog45 = llama.train_xgb(train_X2, train_y, cv_fold)"
   ]
  },
  {
   "cell_type": "code",
   "execution_count": 86,
   "metadata": {
    "collapsed": false
   },
   "outputs": [
    {
     "name": "stdout",
     "output_type": "stream",
     "text": [
      "XGBClassifier(base_score=0.5, colsample_bylevel=1, colsample_bytree=1,\n",
      "       gamma=0.5, learning_rate=0.05, max_delta_step=0, max_depth=3,\n",
      "       min_child_weight=3, missing=None, n_estimators=600, nthread=7,\n",
      "       objective='binary:logistic', reg_alpha=10, reg_lambda=10,\n",
      "       scale_pos_weight=7, seed=0, silent=True, subsample=1.0)\n",
      "CV scores: [ 0.84337777  0.84053685  0.83724025  0.83161778  0.83528491]\n",
      "=>\t0.837611511292 (+-0.00408124958341)\n",
      "\n",
      "Metrics:\n",
      "             precision    recall  f1-score   support\n",
      "\n",
      "          0       0.98      0.92      0.95     14603\n",
      "          1       0.21      0.52      0.30       602\n",
      "\n",
      "avg / total       0.95      0.90      0.92     15205\n",
      "\n",
      "Confusion matrix:\n",
      "Cls\t0\t1\n",
      "0\t13412\t1191\n",
      "1\t287\t315\n",
      "XGBClassifier(base_score=0.5, colsample_bylevel=1, colsample_bytree=1,\n",
      "       gamma=1.0, learning_rate=0.01, max_delta_step=0, max_depth=3,\n",
      "       min_child_weight=5, missing=None, n_estimators=1300, nthread=7,\n",
      "       objective='binary:logistic', reg_alpha=1e-05, reg_lambda=100,\n",
      "       scale_pos_weight=7, seed=0, silent=True, subsample=0.9)\n",
      "CV scores: [ 0.83602059  0.82947219  0.82762413  0.82281357  0.83321952]\n",
      "=>\t0.829830000271 (+-0.00456149786608)\n",
      "\n",
      "Metrics:\n",
      "             precision    recall  f1-score   support\n",
      "\n",
      "          0       0.98      0.90      0.94     14603\n",
      "          1       0.18      0.52      0.27       602\n",
      "\n",
      "avg / total       0.95      0.89      0.91     15205\n",
      "\n",
      "Confusion matrix:\n",
      "Cls\t0\t1\n",
      "0\t13194\t1409\n",
      "1\t288\t314\n"
     ]
    }
   ],
   "source": [
    "train_X2 = llama.take_features(feat_imp_tree.tail(25), train_X)[0]\n",
    "clf1 = xgb.XGBClassifier(base_score=0.5, colsample_bylevel=1, colsample_bytree=1,\n",
    "       gamma=0.5, learning_rate=0.05, max_delta_step=0, max_depth=3,\n",
    "       min_child_weight=3, missing=None, n_estimators=600, nthread=7,\n",
    "       objective='binary:logistic', reg_alpha=10, reg_lambda=10,\n",
    "       scale_pos_weight=7, seed=0, silent=True, subsample=1.0)\n",
    "clf1.fit(train_X2, train_y)\n",
    "llama.per_clf_report(clf1, train_X2, train_y, val_col, cv_fold)\n",
    "\n",
    "train_X2 = llama.take_features(feat_imp_anova.tail(70), train_X)[0]\n",
    "clf2 = xgb.XGBClassifier(base_score=0.5, colsample_bylevel=1, colsample_bytree=1,\n",
    "       gamma=1.0, learning_rate=0.01, max_delta_step=0, max_depth=3,\n",
    "       min_child_weight=5, missing=None, n_estimators=1300, nthread=7,\n",
    "       objective='binary:logistic', reg_alpha=1e-05, reg_lambda=100,\n",
    "       scale_pos_weight=7, seed=0, silent=True, subsample=0.9)\n",
    "clf2.fit(train_X2, train_y)\n",
    "llama.per_clf_report(clf2, train_X2, train_y, val_col, cv_fold)\n",
    "\n",
    "# train_X2 = llama.take_features(feat_imp_rfe_lin.sort_values().tail(110), train_X)[0]\n",
    "# llama.per_clf_report(xlin110, train_X2, train_y, val_col, cv_fold)\n",
    "\n",
    "# train_X2 = llama.take_features(feat_imp_rfe_log.sort_values().tail(45), train_X)[0]\n",
    "# llama.per_clf_report(xlog45, train_X2, train_y, val_col, cv_fold)"
   ]
  },
  {
   "cell_type": "code",
   "execution_count": 90,
   "metadata": {
    "collapsed": false
   },
   "outputs": [
    {
     "name": "stdout",
     "output_type": "stream",
     "text": [
      "RandomForestClassifier(bootstrap=True, class_weight=None, criterion='gini',\n",
      "            max_depth=None, max_features='auto', max_leaf_nodes=None,\n",
      "            min_samples_leaf=1, min_samples_split=2,\n",
      "            min_weight_fraction_leaf=0.0, n_estimators=2000, n_jobs=7,\n",
      "            oob_score=False, random_state=None, verbose=0,\n",
      "            warm_start=False)\n",
      "CV scores: [ 0.77570832  0.78504383  0.76808063  0.75629555  0.76855853]\n",
      "=>\t0.770737371036 (+-0.00948426989716)\n",
      "\n",
      "Metrics:\n",
      "             precision    recall  f1-score   support\n",
      "\n",
      "          0       0.99      1.00      1.00     14603\n",
      "          1       1.00      0.88      0.93       602\n",
      "\n",
      "avg / total       1.00      1.00      0.99     15205\n",
      "\n",
      "Confusion matrix:\n",
      "Cls\t0\t1\n",
      "0\t14603\t0\n",
      "1\t75\t527\n"
     ]
    }
   ],
   "source": [
    "frs = RandomForestClassifier(n_jobs=7, n_estimators=2000)\n",
    "train_X2 = llama.take_features(feat_imp_tree.tail(25), train_X)[0]\n",
    "frs.fit(train_X2, train_y)\n",
    "llama.per_clf_report(frs, train_X2, train_y, val_col, cv_fold)"
   ]
  },
  {
   "cell_type": "code",
   "execution_count": 138,
   "metadata": {
    "collapsed": false
   },
   "outputs": [],
   "source": [
    "train_X2 = llama.take_features(feat_imp_tree.tail(25), train_X)[0]\n",
    "pt = clf1.predict_proba(train_X2)\n",
    "pr = frs.predict_proba(train_X2)\n",
    "train_X2 = llama.take_features(feat_imp_anova.tail(70), train_X)[0]\n",
    "pa = clf2.predict_proba(train_X2)"
   ]
  },
  {
   "cell_type": "code",
   "execution_count": 144,
   "metadata": {
    "collapsed": false
   },
   "outputs": [
    {
     "name": "stdout",
     "output_type": "stream",
     "text": [
      "XGBClassifier(base_score=0.5, colsample_bylevel=1, colsample_bytree=1,\n",
      "       gamma=0, learning_rate=0.1, max_delta_step=0, max_depth=2,\n",
      "       min_child_weight=1, missing=None, n_estimators=100, nthread=7,\n",
      "       objective='binary:logistic', reg_alpha=0, reg_lambda=1,\n",
      "       scale_pos_weight=1, seed=0, silent=True, subsample=1)\n",
      "CV scores: [ 0.99782897  0.99817575  0.99860695  0.99849358  0.99683693]\n",
      "=>\t0.997988436511 (+-0.000636273175817)\n",
      "\n",
      "Metrics:\n",
      "             precision    recall  f1-score   support\n",
      "\n",
      "          0       1.00      1.00      1.00     14603\n",
      "          1       0.99      0.88      0.93       602\n",
      "\n",
      "avg / total       0.99      0.99      0.99     15205\n",
      "\n",
      "Confusion matrix:\n",
      "Cls\t0\t1\n",
      "0\t14599\t4\n",
      "1\t73\t529\n"
     ]
    }
   ],
   "source": [
    "train_Xpr = np.transpose(np.vstack([pt[:,1], pr[:,1], pa[:,1]]))\n",
    "ens = xgb.XGBClassifier(nthread=7, max_depth = 2, n_estimators=100)\n",
    "# ens = LogisticRegression(n_jobs=7, C=.01)\n",
    "ens.fit(train_Xpr, train_y)\n",
    "llama.per_clf_report(ens, train_Xpr, train_y, val_col, cv_fold)"
   ]
  },
  {
   "cell_type": "code",
   "execution_count": 123,
   "metadata": {
    "collapsed": false
   },
   "outputs": [],
   "source": []
  },
  {
   "cell_type": "code",
   "execution_count": null,
   "metadata": {
    "collapsed": true
   },
   "outputs": [],
   "source": [
    "# blending\n",
    "ble1 = xgb.XGBClassifier(nthreads = 7)\n",
    "\n",
    "# stacking\n",
    "sta1 = xgb.XGBClassifier(nthreads = 7)\n",
    "sta2 = sklearn.LogisticRegression()\n",
    "sta3 = sklearn.VotingClassifier()"
   ]
  },
  {
   "cell_type": "code",
   "execution_count": null,
   "metadata": {
    "collapsed": false
   },
   "outputs": [],
   "source": [
    "llama = imp.reload(llama)\n",
    "\n",
    "llama.model_eval_report([(\"tree25\", tree25), (\"anova70\", xanova70), ('forest', frs)], \n",
    "                        train_X, train_y, val_col)"
   ]
  },
  {
   "cell_type": "code",
   "execution_count": 61,
   "metadata": {
    "collapsed": false
   },
   "outputs": [
    {
     "name": "stdout",
     "output_type": "stream",
     "text": [
      "XGBClassifier(base_score=0.5, colsample_bylevel=1, colsample_bytree=0.9,\n",
      "       gamma=0.8, learning_rate=0.05, max_delta_step=0, max_depth=5,\n",
      "       min_child_weight=6, missing=None, n_estimators=150, nthread=8,\n",
      "       objective='binary:logistic', reg_alpha=0, reg_lambda=0,\n",
      "       scale_pos_weight=5, seed=0, silent=True, subsample=0.9)\n",
      "CV scores: [ 0.8421543   0.83498737  0.84512202  0.8230082   0.85523021]\n",
      "=>\t0.840100420822 (+-0.0107390201065)\n",
      "XGBClassifier(base_score=0.5, colsample_bylevel=1, colsample_bytree=0.9,\n",
      "       gamma=0.8, learning_rate=0.05, max_delta_step=0, max_depth=5,\n",
      "       min_child_weight=6, missing=None, n_estimators=150, nthread=8,\n",
      "       objective='binary:logistic', reg_alpha=0, reg_lambda=0,\n",
      "       scale_pos_weight=5, seed=0, silent=True, subsample=0.9)\n",
      "CV scores: [-0.19284967 -0.19430263 -0.19607222 -0.20024565 -0.19118343]\n",
      "=>\t-0.194930721823 (+-0.00310866514051)\n",
      "XGBClassifier(base_score=0.5, colsample_bylevel=1, colsample_bytree=0.9,\n",
      "       gamma=0.8, learning_rate=0.05, max_delta_step=0, max_depth=5,\n",
      "       min_child_weight=6, missing=None, n_estimators=150, nthread=8,\n",
      "       objective='binary:logistic', reg_alpha=0, reg_lambda=0,\n",
      "       scale_pos_weight=5, seed=0, silent=True, subsample=0.9)\n",
      "CV scores: [ 0.29090909  0.2688172   0.27819549  0.26255708  0.29042486]\n",
      "=>\t0.278180743776 (+-0.0113464018103)\n",
      "XGBClassifier(base_score=0.5, colsample_bylevel=1, colsample_bytree=0.9,\n",
      "       gamma=0.8, learning_rate=0.05, max_delta_step=0, max_depth=5,\n",
      "       min_child_weight=6, missing=None, n_estimators=150, nthread=8,\n",
      "       objective='binary:logistic', reg_alpha=0, reg_lambda=0,\n",
      "       scale_pos_weight=5, seed=0, silent=True, subsample=0.9)\n",
      "CV scores: [ 0.8421543   0.83498737  0.84512202  0.8230082   0.85523021]\n",
      "=>\t0.840100420822 (+-0.0107390201065)\n",
      "\n",
      "Metrics:\n",
      "             precision    recall  f1-score   support\n",
      "\n",
      "          0       0.98      0.95      0.96     14603\n",
      "          1       0.25      0.41      0.31       602\n",
      "\n",
      "avg / total       0.95      0.93      0.94     15205\n",
      "\n",
      "Confusion matrix:\n",
      "Cls\t0\t1\n",
      "0\t13857\t746\n",
      "1\t353\t249\n"
     ]
    }
   ],
   "source": [
    "# choose n estimators\n",
    "# choose max depth, min child weight\n",
    "# again choose n estimators\n",
    "# choose gamma\n",
    "# tune subsample and colsample by tree\n",
    "# reduce learning rate + add more trees\n",
    "\n",
    "# for n_est in [50, 100, 150, 200, 250, 300]:\n",
    "#     clf     = xgb.XGBClassifier(nthread = 8,\n",
    "#                                 max_depth = 5, \n",
    "#                                 n_estimators = n_est,\n",
    "#                                 learning_rate = .05,\n",
    "#                                 min_child_weight = 6, \n",
    "#     #                             max_delta_step = 0,   # 1 for imbalanced classes\n",
    "#     #                             gamma = 0, \n",
    "#                                 subsample = .9,\n",
    "#                                 colsample_bytree = .7,\n",
    "#                                 reg_alpha = 0,\n",
    "#                                 reg_lambda = 0, \n",
    "#                                 scale_pos_weight = 1)\n",
    "#     llama.print_cv_scores(clf, train_X, train_y, cv_fold)\n",
    "\n",
    "clf     = xgb.XGBClassifier(nthread = 8,\n",
    "                            max_depth = 5, \n",
    "                            n_estimators = 150,\n",
    "                            learning_rate = .05,\n",
    "                            min_child_weight = 6, \n",
    "                            max_delta_step = 0,   # 1 for imbalanced classes\n",
    "                            gamma = 0.8, \n",
    "                            subsample = .9,\n",
    "                            colsample_bytree = .9,\n",
    "                            reg_alpha = 0,\n",
    "                            reg_lambda = 0, \n",
    "                            scale_pos_weight = 5)\n",
    "# parameters = {\n",
    "#      \"n_estimators\": [100, 300, 600, 800, 1000, 1300]\n",
    "# }\n",
    "# parameters = {\"max_depth\": [2, 3, 4, 5],\n",
    "#              \"min_child_weight\": [6, 7, 8]\n",
    "#              }\n",
    "# parameters = {\n",
    "#     'gamma':  list(range(0, 1,1, .1))\n",
    "# }\n",
    "parameters = {\n",
    "    'reg_alpha':  [1e-5, 1e-4, 1e-3],\n",
    "    'reg_lambda': [1e-5, 1e-4, 1e-3]\n",
    "}\n",
    "\n",
    "llama = imp.reload(llama)\n",
    "# clf_best = GridSearchCV(clf, parameters, cv=cv_fold, n_jobs = 1, scoring=\"roc_auc\")\n",
    "clf.fit(train_X, train_y)\n",
    "# clf = clf_best.best_estimator_\n",
    "llama.print_cv_scores(clf, train_X, train_y, cv_fold, \"f1\")\n",
    "llama.per_clf_report(clf, train_X, train_y, val_col, cv_fold)"
   ]
  },
  {
   "cell_type": "code",
   "execution_count": null,
   "metadata": {
    "collapsed": false
   },
   "outputs": [],
   "source": [
    "clf = xgb.XGBClassifier(base_score=0.5, colsample_bylevel=1, colsample_bytree=0.9,\n",
    "       gamma=0.8, learning_rate=0.02, max_delta_step=0, max_depth=5,\n",
    "       min_child_weight=6, missing=None, n_estimators=1000, nthread=8,\n",
    "       objective='binary:logistic', reg_alpha=1e-06, reg_lambda=1e-06,\n",
    "       scale_pos_weight=12, seed=0, silent=True, subsample=0.9)\n",
    "\n",
    "clf.fit(train_X, train_y)\n",
    "\n",
    "llama.per_clf_report(clf, train_X, train_y, val_col, cv_fold)"
   ]
  },
  {
   "cell_type": "code",
   "execution_count": null,
   "metadata": {
    "collapsed": true
   },
   "outputs": [],
   "source": [
    "# Get features from each feature-extraction procedure and train different XGBs / forests on them\n",
    "# XGB - all features, ANOVA, RFE, tree, ridge; \n",
    "# average them with regression / mean / xgb  "
   ]
  },
  {
   "cell_type": "code",
   "execution_count": null,
   "metadata": {
    "collapsed": false
   },
   "outputs": [],
   "source": [
    "train_X, train_y = llama.split_train_set(train_df.drop(\"ID\", 1), \"TARGET\")\n",
    "clf.set_params(nthread = 8)\n",
    "clf.fit(train_X, train_y)\n",
    "pred = clf.predict_proba(test_X.drop(\"ID\", 1))\n",
    "pred_df = pd.DataFrame({\"ID\": test_X.ID, \"TARGET\": pred[:,1]})\n",
    "pred_df.to_csv(\"submission.csv\", index = False)"
   ]
  },
  {
   "cell_type": "code",
   "execution_count": 87,
   "metadata": {
    "collapsed": false
   },
   "outputs": [],
   "source": [
    "# train_X2 = llama.take_features(feat_imp_tree.tail(25), train_X)[0]\n",
    "# train_X2 = llama.take_features(feat_imp_anova.tail(70), train_X)[0]\n",
    "test_X2 = llama.take_features(feat_imp_tree.tail(25), test_X)[0]\n",
    "pred = clf1.predict_proba(test_X2)\n",
    "pred_df = pd.DataFrame({\"ID\": test_id, \"TARGET\": pred[:,1]})\n",
    "pred_df.to_csv(\"submission_tree.csv\", index = False)"
   ]
  },
  {
   "cell_type": "code",
   "execution_count": 88,
   "metadata": {
    "collapsed": false
   },
   "outputs": [],
   "source": [
    "# train_X2 = llama.take_features(feat_imp_tree.tail(25), train_X)[0]\n",
    "# train_X2 = llama.take_features(feat_imp_anova.tail(70), train_X)[0]\n",
    "test_X2 = llama.take_features(feat_imp_anova.tail(70), test_X)[0]\n",
    "pred = clf2.predict_proba(test_X2)\n",
    "pred_df = pd.DataFrame({\"ID\": test_id, \"TARGET\": pred[:,1]})\n",
    "pred_df.to_csv(\"submission_anova.csv\", index = False)"
   ]
  },
  {
   "cell_type": "code",
   "execution_count": 145,
   "metadata": {
    "collapsed": true
   },
   "outputs": [],
   "source": [
    "test_X_tree = llama.take_features(feat_imp_tree.tail(25), test_X)[0]\n",
    "test_X_anova = llama.take_features(feat_imp_anova.tail(70), test_X)[0]\n",
    "pt = clf1.predict_proba(test_X_tree)\n",
    "pr = frs.predict_proba(test_X_tree)\n",
    "pa = clf2.predict_proba(test_X_anova)\n",
    "test_Xpr = np.transpose(np.vstack([pt[:,1], pr[:,1], pa[:,1]]))\n",
    "pred = ens.predict_proba(test_Xpr)\n",
    "pred_df = pd.DataFrame({\"ID\": test_id, \"TARGET\": pred[:,1]})\n",
    "pred_df.to_csv(\"submission.csv\", index = False)"
   ]
  },
  {
   "cell_type": "code",
   "execution_count": null,
   "metadata": {
    "collapsed": false
   },
   "outputs": [],
   "source": [
    "\"\"\"\n",
    "ExtraTreesClassifier(n_estimators=2000, n_jobs = 4)\n",
    "array([ 0.78135125,  0.78413756,  0.77074728,  0.76621595,  0.77887001])\n",
    "\n",
    "xgb_clf = xgb.XGBClassifier(max_depth=2, n_estimators=1000, learning_rate=0.05, nthread=7)\n",
    "array([ 0.84455681,  0.84528062,  0.82965851,  0.83049845,  0.83485219])\n",
    "\n",
    "XGBClassifier(base_score=0.5, colsample_bylevel=1, colsample_bytree=0.7, gamma=0, learning_rate=0.05, \n",
    "max_delta_step=0, max_depth=3, min_child_weight=7, missing=None, n_estimators=150, nthread=8, \n",
    "objective='binary:logistic', reg_alpha=0, reg_lambda=0, scale_pos_weight=1, seed=0, silent=True, subsample=0.9) \n",
    "CV scores: [ 0.8306504 0.84211303 0.8385074 0.84425729 0.832733 ] => 0.837652225791 (+-0.00524368924185)\n",
    "0.836118\n",
    "\n",
    "\"\"\""
   ]
  }
 ],
 "metadata": {
  "kernelspec": {
   "display_name": "Python 3",
   "language": "python",
   "name": "python3"
  },
  "language_info": {
   "codemirror_mode": {
    "name": "ipython",
    "version": 3
   },
   "file_extension": ".py",
   "mimetype": "text/x-python",
   "name": "python",
   "nbconvert_exporter": "python",
   "pygments_lexer": "ipython3",
   "version": "3.5.1"
  }
 },
 "nbformat": 4,
 "nbformat_minor": 0
}
